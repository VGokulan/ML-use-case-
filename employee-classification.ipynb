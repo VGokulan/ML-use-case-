{
 "cells": [
  {
   "cell_type": "markdown",
   "id": "491aa8ab",
   "metadata": {},
   "source": [
    "### Import Libraries\n",
    "\n",
    "The first step is to import the necessary libraries that are essential for data processing, machine learning, and visualization:\n",
    "\n",
    "*   **pandas** is used to load and manipulate datasets.\n",
    "    \n",
    "*   **train\\_test\\_split** from sklearn is used to split the data into training and testing sets.\n",
    "    \n",
    "*   **LabelEncoder** from sklearn is used to encode categorical variables into numerical values.\n",
    "    \n",
    "*   **classification\\_report** from sklearn is used to evaluate the model's performance.\n",
    "    \n",
    "*   **numpy** is used for numerical operations, such as matrix multiplication.\n",
    "    \n",
    "*   **matplotlib** is used for visualizing the data and decision boundaries."
   ]
  },
  {
   "cell_type": "code",
   "execution_count": 55,
   "id": "295a4d38",
   "metadata": {},
   "outputs": [],
   "source": [
    "import pandas as pd\n",
    "from sklearn.model_selection import train_test_split\n",
    "from sklearn.preprocessing import LabelEncoder\n",
    "from sklearn.metrics import classification_report\n",
    "import numpy as np\n",
    "import matplotlib.pyplot as plt"
   ]
  },
  {
   "cell_type": "markdown",
   "id": "c3bc7be4",
   "metadata": {},
   "source": [
    "### Load and Preprocess Data\n",
    "\n",
    "In this step, the dataset is loaded into a **pandas DataFrame** from the CSV file Employee2.csv. The categorical columns in the dataset (Education, City, Gender, EverBenched) are encoded using **LabelEncoder**. This process transforms the string categories into numerical values, as machine learning models typically require numerical data. The features (X) are defined as all columns except the target variable (LeaveOrNot), and the target variable (y) is extracted from the LeaveOrNot column. Afterward, the data is split into training (80%) and testing (20%) sets using **train\\_test\\_split**.\n"
   ]
  },
  {
   "cell_type": "code",
   "execution_count": 56,
   "id": "822aea83",
   "metadata": {},
   "outputs": [
    {
     "data": {
      "text/html": [
       "<div>\n",
       "<style scoped>\n",
       "    .dataframe tbody tr th:only-of-type {\n",
       "        vertical-align: middle;\n",
       "    }\n",
       "\n",
       "    .dataframe tbody tr th {\n",
       "        vertical-align: top;\n",
       "    }\n",
       "\n",
       "    .dataframe thead th {\n",
       "        text-align: right;\n",
       "    }\n",
       "</style>\n",
       "<table border=\"1\" class=\"dataframe\">\n",
       "  <thead>\n",
       "    <tr style=\"text-align: right;\">\n",
       "      <th></th>\n",
       "      <th>Education</th>\n",
       "      <th>JoiningYear</th>\n",
       "      <th>City</th>\n",
       "      <th>PaymentTier</th>\n",
       "      <th>Age</th>\n",
       "      <th>Gender</th>\n",
       "      <th>EverBenched</th>\n",
       "      <th>ExperienceInCurrentDomain</th>\n",
       "      <th>LeaveOrNot</th>\n",
       "    </tr>\n",
       "  </thead>\n",
       "  <tbody>\n",
       "    <tr>\n",
       "      <th>0</th>\n",
       "      <td>Bachelors</td>\n",
       "      <td>2017</td>\n",
       "      <td>Bangalore</td>\n",
       "      <td>3</td>\n",
       "      <td>34</td>\n",
       "      <td>Male</td>\n",
       "      <td>No</td>\n",
       "      <td>0</td>\n",
       "      <td>0</td>\n",
       "    </tr>\n",
       "    <tr>\n",
       "      <th>1</th>\n",
       "      <td>Bachelors</td>\n",
       "      <td>2013</td>\n",
       "      <td>Pune</td>\n",
       "      <td>1</td>\n",
       "      <td>28</td>\n",
       "      <td>Female</td>\n",
       "      <td>No</td>\n",
       "      <td>3</td>\n",
       "      <td>1</td>\n",
       "    </tr>\n",
       "    <tr>\n",
       "      <th>2</th>\n",
       "      <td>Bachelors</td>\n",
       "      <td>2014</td>\n",
       "      <td>New Delhi</td>\n",
       "      <td>3</td>\n",
       "      <td>38</td>\n",
       "      <td>Female</td>\n",
       "      <td>No</td>\n",
       "      <td>2</td>\n",
       "      <td>0</td>\n",
       "    </tr>\n",
       "    <tr>\n",
       "      <th>3</th>\n",
       "      <td>Masters</td>\n",
       "      <td>2016</td>\n",
       "      <td>Bangalore</td>\n",
       "      <td>3</td>\n",
       "      <td>27</td>\n",
       "      <td>Male</td>\n",
       "      <td>No</td>\n",
       "      <td>5</td>\n",
       "      <td>1</td>\n",
       "    </tr>\n",
       "    <tr>\n",
       "      <th>4</th>\n",
       "      <td>Masters</td>\n",
       "      <td>2017</td>\n",
       "      <td>Pune</td>\n",
       "      <td>3</td>\n",
       "      <td>24</td>\n",
       "      <td>Male</td>\n",
       "      <td>Yes</td>\n",
       "      <td>2</td>\n",
       "      <td>1</td>\n",
       "    </tr>\n",
       "  </tbody>\n",
       "</table>\n",
       "</div>"
      ],
      "text/plain": [
       "   Education  JoiningYear       City  PaymentTier  Age  Gender EverBenched  \\\n",
       "0  Bachelors         2017  Bangalore            3   34    Male          No   \n",
       "1  Bachelors         2013       Pune            1   28  Female          No   \n",
       "2  Bachelors         2014  New Delhi            3   38  Female          No   \n",
       "3    Masters         2016  Bangalore            3   27    Male          No   \n",
       "4    Masters         2017       Pune            3   24    Male         Yes   \n",
       "\n",
       "   ExperienceInCurrentDomain  LeaveOrNot  \n",
       "0                          0           0  \n",
       "1                          3           1  \n",
       "2                          2           0  \n",
       "3                          5           1  \n",
       "4                          2           1  "
      ]
     },
     "execution_count": 56,
     "metadata": {},
     "output_type": "execute_result"
    }
   ],
   "source": [
    "# Load dataset\n",
    "data = pd.read_csv('Employee2.csv')\n",
    "data.head()"
   ]
  },
  {
   "cell_type": "code",
   "execution_count": 57,
   "id": "0572e621",
   "metadata": {},
   "outputs": [],
   "source": [
    "# Preprocessing\n",
    "label_encoder = LabelEncoder()\n",
    "\n",
    "# Encode categorical columns\n",
    "data['Education'] = label_encoder.fit_transform(data['Education'])\n",
    "data['City'] = label_encoder.fit_transform(data['City'])\n",
    "data['Gender'] = label_encoder.fit_transform(data['Gender'])\n",
    "data['EverBenched'] = label_encoder.fit_transform(data['EverBenched'])\n",
    "\n",
    "# Define features and target\n",
    "X = data.drop('LeaveOrNot', axis=1)\n",
    "y = data['LeaveOrNot']"
   ]
  },
  {
   "cell_type": "code",
   "execution_count": 58,
   "id": "b2a55aea",
   "metadata": {},
   "outputs": [],
   "source": [
    "# Split data into training and testing sets\n",
    "X_train, X_test, y_train, y_test = train_test_split(X, y, test_size=0.2, random_state=42)"
   ]
  },
  {
   "cell_type": "markdown",
   "id": "7c0cad64",
   "metadata": {},
   "source": [
    "### Initialize Parameters\n",
    "\n",
    "This section initializes the model parameters:\n",
    "\n",
    "*   The number of features is obtained from the training set (X\\_train).\n",
    "    \n",
    "*   The weight vector w is initialized to zero. This vector will be optimized during the training process.\n",
    "    \n",
    "*   The bias term b is initialized to zero.\n",
    "    \n",
    "*   A **learning rate** of 1e-5 is chosen to ensure stable updates to the weights during the gradient descent process.\n",
    "    \n",
    "*   The model will run for a total of 1000 iterations to optimize the weights and bias."
   ]
  },
  {
   "cell_type": "code",
   "execution_count": 59,
   "id": "a309766d",
   "metadata": {},
   "outputs": [],
   "source": [
    "# Initialize parameters\n",
    "n_features = X_train.shape[1]\n",
    "w = np.zeros(n_features)\n",
    "b = 0\n",
    "\n",
    "# Learning rate\n",
    "learning_rate = 1e-5\n",
    "\n",
    "# Number of iterations\n",
    "num_iterations = 1000"
   ]
  },
  {
   "cell_type": "markdown",
   "id": "37398fb4",
   "metadata": {},
   "source": [
    "### Sigmoid Function\n",
    "\n",
    "The **sigmoid function** is used as the activation function in logistic regression. The sigmoid function maps any real-valued number to a value between 0 and 1, which can be interpreted as a probability. Mathematically, the sigmoid function is defined as:\n",
    "\n",
    "$$\n",
    "\\sigma(z) = \\frac{1}{1 + e^{-z}}\n",
    "$$\n",
    "\n",
    "Where:\n",
    "\n",
    "*   z is the linear combination of input features and weights: z=Xw+bz = Xw + b.\n",
    "    "
   ]
  },
  {
   "cell_type": "code",
   "execution_count": 60,
   "id": "45f0fcde",
   "metadata": {},
   "outputs": [],
   "source": [
    "def sigmoid(z):\n",
    "    return 1 / (1 + np.exp(-z))"
   ]
  },
  {
   "cell_type": "markdown",
   "id": "7249f6b7",
   "metadata": {},
   "source": [
    "### Loss Function\n",
    "\n",
    "The **binary cross-entropy loss function** (also known as log loss) is used to measure the error between the predicted probabilities and the true labels. The formula for binary cross-entropy is:\n",
    "\n",
    "$$\n",
    "L = -\\frac{1}{m} \\sum_{i=1}^{m} \\left[ y_i \\log(y_{pred_i}) + (1 - y_i) \\log(1 - y_{pred_i}) \\right]\n",
    "$$\n",
    "\n",
    "Where:\n",
    "\n",
    "- \\( m \\) is the number of samples.\n",
    "- \\( y_i \\) is the true label for sample \\( i \\).\n",
    "- \\( y_{pred_i} \\) is the predicted probability for sample \\( i \\).\n",
    "\n",
    "The values of \\( y_{pred} \\) are clipped to a small value (1e-10) to avoid computing the logarithm of zero, which would result in undefined values.\n"
   ]
  },
  {
   "cell_type": "code",
   "execution_count": 61,
   "id": "16c9ac45",
   "metadata": {},
   "outputs": [],
   "source": [
    "def compute_loss(y, y_pred):\n",
    "    y_pred = np.clip(y_pred, 1e-10, 1 - 1e-10)  # Clip values to avoid log(0)\n",
    "    m = y.shape[0]\n",
    "    loss = -1/m * np.sum(y * np.log(y_pred) + (1 - y) * np.log(1 - y_pred))\n",
    "    return loss"
   ]
  },
  {
   "cell_type": "markdown",
   "id": "bd9d19d0",
   "metadata": {},
   "source": [
    "### Gradient Descent\n",
    "\n",
    "The **gradient descent algorithm** is used to optimize the weights (\\( w \\)) and bias (\\( b \\)) by minimizing the loss function. The optimization process is done iteratively:\n",
    "\n",
    "- **Forward Pass**: The predicted probabilities are computed using the sigmoid function.\n",
    "    \n",
    "- **Gradients**: The gradients of the loss function with respect to the weights and bias are computed:\n",
    "    \n",
    "    - $$ \\frac{\\partial L}{\\partial w} = \\frac{1}{m} X^T (y_{pred} - y) $$\n",
    "        \n",
    "    - $$ \\frac{\\partial L}{\\partial b} = \\frac{1}{m} \\sum (y_{pred} - y) $$\n",
    "        \n",
    "- Update the parameters:\n",
    "\n",
    "    - $$ w = w - \\alpha \\frac{\\partial L}{\\partial w} $$\n",
    "\n",
    "    - $$ b = b - \\alpha \\frac{\\partial L}{\\partial b} $$\n",
    "\n",
    "This process continues for a set number of iterations (1000 in this case) until the model converges to an optimal solution.\n"
   ]
  },
  {
   "cell_type": "code",
   "execution_count": 62,
   "id": "b9331966",
   "metadata": {},
   "outputs": [],
   "source": [
    "def gradient_descent(X, y, w, b, learning_rate, num_iterations):\n",
    "    m = X.shape[0]\n",
    "    for i in range(num_iterations):\n",
    "        z = np.dot(X, w) + b\n",
    "        y_pred = sigmoid(z)\n",
    "        \n",
    "        # Clip predictions to avoid log(0) errors\n",
    "        y_pred = np.clip(y_pred, 1e-10, 1 - 1e-10)\n",
    "        \n",
    "        # Compute gradients\n",
    "        dw = 1/m * np.dot(X.T, (y_pred - y))\n",
    "        db = 1/m * np.sum(y_pred - y)\n",
    "        \n",
    "        # Update parameters\n",
    "        w -= learning_rate * dw\n",
    "        b -= learning_rate * db\n",
    "        \n",
    "        # Print loss every 100 iterations\n",
    "        if i % 100 == 0:\n",
    "            loss = compute_loss(y, y_pred)\n",
    "            print(f\"Iteration {i}: Loss = {loss}\")\n",
    "    return w, b"
   ]
  },
  {
   "cell_type": "markdown",
   "id": "06f2fa9f",
   "metadata": {},
   "source": [
    "### Training the Model\n",
    "\n",
    "This step trains the logistic regression model by running the gradient descent algorithm. During the training, the weights and bias are optimized to minimize the loss function, and the loss is printed every 100 iterations to monitor the training process.\n"
   ]
  },
  {
   "cell_type": "code",
   "execution_count": 63,
   "id": "b9fa32b5",
   "metadata": {},
   "outputs": [
    {
     "name": "stdout",
     "output_type": "stream",
     "text": [
      "Iteration 0: Loss = 0.6931471805599453\n",
      "Iteration 100: Loss = 1.212329015166258\n",
      "Iteration 200: Loss = 6.074955455713619\n",
      "Iteration 300: Loss = 5.978516388097213\n",
      "Iteration 400: Loss = 1.2122750794422168\n",
      "Iteration 500: Loss = 6.0749003325245\n",
      "Iteration 600: Loss = 5.9784627097907395\n",
      "Iteration 700: Loss = 1.2122215320559862\n",
      "Iteration 800: Loss = 6.074844500050373\n",
      "Iteration 900: Loss = 5.978409417767005\n"
     ]
    }
   ],
   "source": [
    "# Train the model\n",
    "w, b = gradient_descent(X_train, y_train, w, b, learning_rate, num_iterations)"
   ]
  },
  {
   "cell_type": "markdown",
   "id": "91a0ffd9",
   "metadata": {},
   "source": [
    "### Prediction\n",
    "\n",
    "Once the model is trained, it can make predictions on new data. The **predict function** computes the linear combination of the input features and weights, applies the sigmoid function to get probabilities, and then classifies the output as 1 if the probability is greater than or equal to 0.5 and as 0 otherwise.\n",
    "\n",
    "### Model Evaluation\n",
    "\n",
    "The **classification\\_report** function from sklearn is used to evaluate the model's performance. It calculates several metrics such as **precision**, **recall**, **F1-score**, and **accuracy** for each class. These metrics provide insights into how well the model is performing, particularly in terms of identifying the positive and negative classes.\n"
   ]
  },
  {
   "cell_type": "code",
   "execution_count": 64,
   "id": "d973e65f",
   "metadata": {},
   "outputs": [
    {
     "name": "stdout",
     "output_type": "stream",
     "text": [
      "              precision    recall  f1-score   support\n",
      "\n",
      "           0       0.66      1.00      0.79       610\n",
      "           1       0.00      0.00      0.00       321\n",
      "\n",
      "    accuracy                           0.66       931\n",
      "   macro avg       0.33      0.50      0.40       931\n",
      "weighted avg       0.43      0.66      0.52       931\n",
      "\n"
     ]
    },
    {
     "name": "stderr",
     "output_type": "stream",
     "text": [
      "C:\\Users\\gokulan\\anaconda3\\lib\\site-packages\\sklearn\\metrics\\_classification.py:1344: UndefinedMetricWarning: Precision and F-score are ill-defined and being set to 0.0 in labels with no predicted samples. Use `zero_division` parameter to control this behavior.\n",
      "  _warn_prf(average, modifier, msg_start, len(result))\n",
      "C:\\Users\\gokulan\\anaconda3\\lib\\site-packages\\sklearn\\metrics\\_classification.py:1344: UndefinedMetricWarning: Precision and F-score are ill-defined and being set to 0.0 in labels with no predicted samples. Use `zero_division` parameter to control this behavior.\n",
      "  _warn_prf(average, modifier, msg_start, len(result))\n",
      "C:\\Users\\gokulan\\anaconda3\\lib\\site-packages\\sklearn\\metrics\\_classification.py:1344: UndefinedMetricWarning: Precision and F-score are ill-defined and being set to 0.0 in labels with no predicted samples. Use `zero_division` parameter to control this behavior.\n",
      "  _warn_prf(average, modifier, msg_start, len(result))\n"
     ]
    }
   ],
   "source": [
    "# Make predictions\n",
    "def predict(X, w, b):\n",
    "    z = np.dot(X, w) + b\n",
    "    y_pred = sigmoid(z)\n",
    "    return np.where(y_pred >= 0.5, 1, 0)\n",
    "\n",
    "y_pred = predict(X_test, w, b)\n",
    "\n",
    "# Evaluate the model\n",
    "print(classification_report(y_test, y_pred))"
   ]
  },
  {
   "cell_type": "markdown",
   "id": "572e5742",
   "metadata": {},
   "source": [
    "### Plotting the Decision Boundary\n",
    "\n",
    "The **plot\\_decision\\_boundary function** visualizes the decision boundary created by the logistic regression model. The decision boundary separates the feature space into regions corresponding to each class (0 or 1). By plotting the points and the boundary, we can visually assess how well the model separates the classes based on the input features.\n",
    "\n",
    "The decision boundary is computed over a mesh grid of values spanning the feature space. The model’s predictions are computed for each point in the grid and used to create a contour plot that represents the boundary between the two classes.\n"
   ]
  },
  {
   "cell_type": "code",
   "execution_count": 65,
   "id": "b64badf2",
   "metadata": {},
   "outputs": [],
   "source": [
    "def plot_decision_boundary(X, y, w, b):\n",
    "    plt.figure(figsize=(10, 6))\n",
    "    x_min, x_max = X[:, 0].min() - 1, X[:, 0].max() + 1\n",
    "    y_min, y_max = X[:, 1].min() - 1, X[:, 1].max() + 1\n",
    "    xx, yy = np.meshgrid(np.arange(x_min, x_max, 0.01),\n",
    "                         np.arange(y_min, y_max, 0.01))\n",
    "    \n",
    "    Z = predict(np.c_[xx.ravel(), yy.ravel()], w, b)\n",
    "    Z = Z.reshape(xx.shape)\n",
    "    plt.contourf(xx, yy, Z, alpha=0.8)\n",
    "    plt.scatter(X[:, 0], X[:, 1], c=y, edgecolors='g')\n",
    "    plt.title('Decision Boundary')\n",
    "    plt.xlabel('Feature 1')\n",
    "    plt.ylabel('Feature 2')\n",
    "    plt.show()"
   ]
  },
  {
   "cell_type": "markdown",
   "id": "8a3efa4e",
   "metadata": {},
   "source": [
    "### Feature Importance Plot\n",
    "\n",
    "This section would display a **bar plot** of feature importance, showing how each feature contributes to predicting employee retention (the target variable). Although this code assumes the existence of feature\\_importance, typically feature importance is calculated either through model coefficients (for linear models) or other methods like **permutation importance**.\n",
    "\n",
    "This rich text provides an overview of each part of the code, explaining the key concepts behind the machine learning process, the math involved, and how each component contributes to the model's training and evaluation."
   ]
  },
  {
   "cell_type": "code",
   "execution_count": 66,
   "id": "7308c1e3",
   "metadata": {},
   "outputs": [
    {
     "data": {
      "image/png": "[encoded data removed]",
      "text/plain": [
       "<Figure size 1000x600 with 1 Axes>"
      ]
     },
     "metadata": {},
     "output_type": "display_data"
    }
   ],
   "source": [
    "plt.figure(figsize=(10, 6))\n",
    "sns.barplot(x=feature_importance, y=features)\n",
    "plt.title('Feature Importance in Predicting Employee Retention')\n",
    "plt.xlabel('Importance')\n",
    "plt.ylabel('Features')\n",
    "plt.show()\n"
   ]
  },
  {
   "cell_type": "code",
   "execution_count": null,
   "id": "47cbf4e6",
   "metadata": {},
   "outputs": [],
   "source": []
  }
 ],
 "metadata": {
  "kernelspec": {
   "display_name": "Python 3 (ipykernel)",
   "language": "python",
   "name": "python3"
  },
  "language_info": {
   "codemirror_mode": {
    "name": "ipython",
    "version": 3
   },
   "file_extension": ".py",
   "mimetype": "text/x-python",
   "name": "python",
   "nbconvert_exporter": "python",
   "pygments_lexer": "ipython3",
   "version": "3.10.9"
  }
 },
 "nbformat": 4,
 "nbformat_minor": 5
}
