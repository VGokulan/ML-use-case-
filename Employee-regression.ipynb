{
 "cells": [
  {
   "cell_type": "code",
   "execution_count": 26,
   "id": "c97923e0",
   "metadata": {},
   "outputs": [],
   "source": [
    "import numpy as np\n",
    "import pandas as pd\n",
    "import matplotlib.pyplot as plt"
   ]
  },
  {
   "cell_type": "markdown",
   "id": "9f5dd574",
   "metadata": {},
   "source": [
    "# Linear Regression Model: Predicting `PaymentTier` based on `ExperienceInCurrentDomain`\n",
    "\n",
    "## Overview\n",
    "\n",
    "This linear regression model is used to predict the `PaymentTier` of an employee based on their `ExperienceInCurrentDomain`. The model works by finding a linear relationship between the feature (experience) and the target (payment tier). The following steps detail how the model is built and trained.\n",
    "\n",
    "### 1. **Data Loading and Feature Selection**\n",
    "- **Feature (X):** The input feature is `ExperienceInCurrentDomain`, which represents the years of experience an employee has in their current field.\n",
    "- **Target (y):** The target variable is `PaymentTier`, which represents the pay tier of an employee./'\n",
    "\n",
    "### 2. **Adding the Intercept Term**\n",
    "To account for the intercept term in the linear regression model, we add a column of ones to the feature matrix `X`. This ensures that the model has a bias term (intercept) \\( \\theta_0 \\).\n",
    "\n",
    "Mathematically, if the original dataset has \\( m \\) examples, each with one feature \\( x_i \\), the feature matrix \\( X \\) is augmented to include a column of ones:\n",
    "\n",
    "$$\n",
    "X = \\begin{bmatrix}\n",
    "1 & x_1 \\\\\n",
    "1 & x_2 \\\\\n",
    "\\vdots & \\vdots \\\\\n",
    "1 & x_m\n",
    "\\end{bmatrix}\n",
    "$$\n",
    "\n",
    "The first column represents the intercept term, and the second column contains the actual `ExperienceInCurrentDomain` values.\n"
   ]
  },
  {
   "cell_type": "code",
   "execution_count": 27,
   "id": "70c150f5",
   "metadata": {},
   "outputs": [],
   "source": [
    "# Load dataset\n",
    "data = pd.read_csv('Employee2.csv')\n",
    "\n",
    "# Selecting features and target (Use case: Predicting PaymentTier based on ExperienceInCurrentDomain)\n",
    "X = data[['ExperienceInCurrentDomain']].values\n",
    "y = data['PaymentTier'].values\n",
    "\n",
    "# Adding a column of ones for the intercept term\n",
    "X = np.hstack((np.ones((X.shape[0], 1)), X))\n",
    "\n",
    "# Initialize parameters (weights)\n",
    "theta = np.zeros(X.shape[1])\n"
   ]
  },
  {
   "cell_type": "markdown",
   "id": "80324504",
   "metadata": {},
   "source": [
    "### 3. **Initializing Parameters (Weights)**\n",
    "We initialize the model parameters (weights), which are the coefficients that will be learned during training. These parameters include:\n",
    "- \\( \\theta_0 \\): The intercept term (bias).\n",
    "- \\( \\theta_1 \\): The coefficient for `ExperienceInCurrentDomain`.\n",
    "\n",
    "Initially, all the parameters are set to zero:\n",
    "\n",
    "$$\n",
    "\\theta = \\begin{bmatrix} 0 \\\\ 0 \\end{bmatrix}\n",
    "$$\n",
    "\n",
    "These parameters will be updated using gradient descent during the training process."
   ]
  },
  {
   "cell_type": "code",
   "execution_count": 28,
   "id": "62931a0a",
   "metadata": {},
   "outputs": [],
   "source": [
    "# Learning rate and number of iterations\n",
    "alpha = 0.01\n",
    "iterations = 1000\n",
    "\n",
    "# Number of training examples\n",
    "m = len(y)"
   ]
  },
  {
   "cell_type": "markdown",
   "id": "91f04f27",
   "metadata": {},
   "source": [
    "### 4. **Hypothesis Function**\n",
    "The hypothesis function defines the model's prediction. In linear regression, the hypothesis is a linear combination of the input features:\n",
    "\n",
    "$$\n",
    "h_\\theta(x_i) = \\theta_0 + \\theta_1 x_i\n",
    "$$\n",
    "\n",
    "This represents the predicted `PaymentTier` based on an employee's `ExperienceInCurrentDomain`. The hypothesis function is applied to all training examples to generate predictions.\n"
   ]
  },
  {
   "cell_type": "code",
   "execution_count": 29,
   "id": "c314d203",
   "metadata": {},
   "outputs": [],
   "source": [
    "# Hypothesis function\n",
    "def hypothesis(X, theta):\n",
    "    return np.dot(X, theta)"
   ]
  },
  {
   "cell_type": "markdown",
   "id": "60ded24a",
   "metadata": {},
   "source": [
    "### 5. **Cost Function**\n",
    "The cost function quantifies how well the model's predictions match the actual target values. For linear regression, the cost function is the Mean Squared Error (MSE):\n",
    "\n",
    "$$\n",
    "J(\\theta) = \\frac{1}{2m} \\sum_{i=1}^m \\left( h_\\theta(x_i) - y_i \\right)^2\n",
    "$$\n",
    "\n",
    "Where:\n",
    "- \\( m \\) is the number of training examples.\n",
    "- \\( h_\\theta(x_i) \\) is the predicted value for the \\( i \\)-th employee.\n",
    "- \\( y_i \\) is the actual target value (the true `PaymentTier`).\n",
    "\n",
    "The goal is to minimize the cost function, so that the model's predictions are as close as possible to the actual values.\n"
   ]
  },
  {
   "cell_type": "code",
   "execution_count": 30,
   "id": "345abced",
   "metadata": {},
   "outputs": [],
   "source": [
    "# Cost function\n",
    "def compute_cost(X, y, theta):\n",
    "    errors = hypothesis(X, theta) - y\n",
    "    cost = (1 / (2 * m)) * np.dot(errors.T, errors)\n",
    "    return cost"
   ]
  },
  {
   "cell_type": "markdown",
   "id": "18242615",
   "metadata": {},
   "source": [
    "### 6. **Gradient Descent**\n",
    "Gradient descent is an optimization algorithm used to minimize the cost function by adjusting the model parameters. It iteratively updates the parameters in the direction that reduces the cost function.\n",
    "\n",
    "The parameter update rule is as follows:\n",
    "\n",
    "$$\n",
    "\\theta_j := \\theta_j - \\alpha \\cdot \\frac{1}{m} \\sum_{i=1}^m \\left( h_\\theta(x_i) - y_i \\right) \\cdot x_{ij}\n",
    "$$\n",
    "\n",
    "Where:\n",
    "- \\( \\alpha \\) is the learning rate (a small positive value that controls the step size).\n",
    "- \\( \\theta_j \\) is the parameter being updated (for \\( j = 0 \\), it's the intercept term, and for \\( j = 1 \\), it's the coefficient for `ExperienceInCurrentDomain`).\n",
    "- \\( x_{ij} \\) is the feature value for the \\( i \\)-th example and \\( j \\)-th feature.\n",
    "\n",
    "The parameters are updated in each iteration of gradient descent until the cost function converges to a minimum.\n",
    "\n",
    "### 7. **Training the Model**\n",
    "Once the gradient descent algorithm has been run for a specified number of iterations, the model parameters \\( \\theta_0 \\) and \\( \\theta_1 \\) are learned. These parameters define the best-fitting line that predicts `PaymentTier` based on `ExperienceInCurrentDomain`.\n"
   ]
  },
  {
   "cell_type": "code",
   "execution_count": 31,
   "id": "7e3c79d7",
   "metadata": {},
   "outputs": [],
   "source": [
    "# Gradient descent function\n",
    "def gradient_descent(X, y, theta, alpha, iterations):\n",
    "    for _ in range(iterations):\n",
    "        errors = hypothesis(X, theta) - y\n",
    "        gradient = (1 / m) * np.dot(X.T, errors)\n",
    "        theta -= alpha * gradient\n",
    "    return theta\n",
    "\n",
    "# Training the model\n",
    "theta = gradient_descent(X, y, theta, alpha, iterations)"
   ]
  },
  {
   "cell_type": "markdown",
   "id": "7d6d248f",
   "metadata": {},
   "source": [
    "### 8. **Making Predictions**\n",
    "After the model is trained, it can be used to make predictions. For any new value of `ExperienceInCurrentDomain`, the model can predict the corresponding `PaymentTier` using the learned parameters:\n",
    "\n",
    "$$\n",
    "h_\\theta(x_i) = \\theta_0 + \\theta_1 x_i\n",
    "$$\n",
    "\n",
    "Where:\n",
    "- \\( h_\\theta(x_i) \\) is the predicted `PaymentTier` for a given value of `ExperienceInCurrentDomain`.\n"
   ]
  },
  {
   "cell_type": "code",
   "execution_count": 32,
   "id": "9ebcf95c",
   "metadata": {},
   "outputs": [],
   "source": [
    "# Predictions\n",
    "predictions = hypothesis(X, theta)"
   ]
  },
  {
   "cell_type": "code",
   "execution_count": 33,
   "id": "1e10beb3",
   "metadata": {},
   "outputs": [
    {
     "name": "stdout",
     "output_type": "stream",
     "text": [
      "Learned parameters: [2.36889991 0.09112983]\n",
      "Final cost: 0.1682758570363801\n"
     ]
    }
   ],
   "source": [
    "# Output the model parameters\n",
    "print(\"Learned parameters:\", theta)\n",
    "print(\"Final cost:\", compute_cost(X, y, theta))"
   ]
  },
  {
   "cell_type": "markdown",
   "id": "ca38089d",
   "metadata": {},
   "source": [
    "### 9. **Plotting the Results**\n",
    "The final step is to visualize the relationship between `ExperienceInCurrentDomain` and `PaymentTier`. A scatter plot is used to display the actual data points, while the learned regression line is plotted to show the model's predictions.\n",
    "\n",
    "The blue points represent the actual data, and the red line represents the model’s predicted values. This plot demonstrates how the model fits the data and predicts the payment tier based on experience.\n",
    "\n",
    "## Conclusion\n",
    "The linear regression model uses `ExperienceInCurrentDomain` to predict `PaymentTier`. It learns the optimal coefficients \\( \\theta_0 \\) and \\( \\theta_1 \\) through gradient descent, which minimizes the cost function and makes accurate predictions. The final model can then be used to predict payment tiers for employees based on their experience."
   ]
  },
  {
   "cell_type": "code",
   "execution_count": 34,
   "id": "2d221813",
   "metadata": {},
   "outputs": [
    {
     "data": {
      "image/png": "[encoded data removed]",
      "text/plain": [
       "<Figure size 1000x600 with 1 Axes>"
      ]
     },
     "metadata": {},
     "output_type": "display_data"
    }
   ],
   "source": [
    "# Plotting the results\n",
    "plt.figure(figsize=(10, 6))\n",
    "plt.scatter(X[:, 1], y, color='blue', label='Actual Data')\n",
    "plt.plot(X[:, 1], predictions, color='red', label='Regression Line')\n",
    "plt.title('Linear Regression: Predicting PaymentTier based on ExperienceInCurrentDomain')\n",
    "plt.xlabel('ExperienceInCurrentDomain')\n",
    "plt.ylabel('PaymentTier')\n",
    "plt.legend()\n",
    "plt.show()"
   ]
  },
  {
   "cell_type": "code",
   "execution_count": null,
   "id": "816d0f7e",
   "metadata": {},
   "outputs": [],
   "source": []
  },
  {
   "cell_type": "code",
   "execution_count": null,
   "id": "5631a9d4",
   "metadata": {},
   "outputs": [],
   "source": []
  }
 ],
 "metadata": {
  "kernelspec": {
   "display_name": "Python 3 (ipykernel)",
   "language": "python",
   "name": "python3"
  },
  "language_info": {
   "codemirror_mode": {
    "name": "ipython",
    "version": 3
   },
   "file_extension": ".py",
   "mimetype": "text/x-python",
   "name": "python",
   "nbconvert_exporter": "python",
   "pygments_lexer": "ipython3",
   "version": "3.10.9"
  }
 },
 "nbformat": 4,
 "nbformat_minor": 5
}
